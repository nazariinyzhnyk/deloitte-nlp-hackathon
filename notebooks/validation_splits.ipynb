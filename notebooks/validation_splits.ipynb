{
 "cells": [
  {
   "cell_type": "code",
   "execution_count": 1,
   "metadata": {},
   "outputs": [],
   "source": [
    "import os\n",
    "import pickle\n",
    "\n",
    "import numpy as np\n",
    "import pandas as pd"
   ]
  },
  {
   "cell_type": "code",
   "execution_count": 2,
   "metadata": {},
   "outputs": [],
   "source": [
    "DATA_DIR = os.path.join('..', 'data')"
   ]
  },
  {
   "cell_type": "code",
   "execution_count": 3,
   "metadata": {},
   "outputs": [
    {
     "data": {
      "text/plain": [
       "['bow50k',\n",
       " 'train_df.pkl',\n",
       " 'bow_whole',\n",
       " 'bow20k',\n",
       " 'data.pkl',\n",
       " 'hash20k',\n",
       " 'tfidf',\n",
       " 'sample_submission.csv',\n",
       " 'test_df.pkl']"
      ]
     },
     "execution_count": 3,
     "metadata": {},
     "output_type": "execute_result"
    }
   ],
   "source": [
    "os.listdir(DATA_DIR)"
   ]
  },
  {
   "cell_type": "code",
   "execution_count": 4,
   "metadata": {},
   "outputs": [],
   "source": [
    "train = pd.read_pickle(os.path.join(DATA_DIR, 'train_df.pkl'))"
   ]
  },
  {
   "cell_type": "code",
   "execution_count": 5,
   "metadata": {},
   "outputs": [
    {
     "data": {
      "text/html": [
       "<div>\n",
       "<style scoped>\n",
       "    .dataframe tbody tr th:only-of-type {\n",
       "        vertical-align: middle;\n",
       "    }\n",
       "\n",
       "    .dataframe tbody tr th {\n",
       "        vertical-align: top;\n",
       "    }\n",
       "\n",
       "    .dataframe thead th {\n",
       "        text-align: right;\n",
       "    }\n",
       "</style>\n",
       "<table border=\"1\" class=\"dataframe\">\n",
       "  <thead>\n",
       "    <tr style=\"text-align: right;\">\n",
       "      <th></th>\n",
       "      <th>id</th>\n",
       "      <th>html</th>\n",
       "      <th>text</th>\n",
       "      <th>keywords</th>\n",
       "      <th>accepted_function</th>\n",
       "      <th>rejected_function</th>\n",
       "      <th>accepted_product</th>\n",
       "      <th>rejected_product</th>\n",
       "      <th>target</th>\n",
       "    </tr>\n",
       "  </thead>\n",
       "  <tbody>\n",
       "    <tr>\n",
       "      <td>0</td>\n",
       "      <td>b811ea46-1bc5-4a18-a64c-7504c382da44</td>\n",
       "      <td>[b'&lt;!DOCTYPE html&gt;\\n&lt;html lang=\"en\" class=\"pre...</td>\n",
       "      <td>[Release\\n2020\\n2019\\n2018\\n2017\\n2020\\n2019\\n...</td>\n",
       "      <td>[tools, services, projects, incubates, investm...</td>\n",
       "      <td>accounting, bookeeping, auditing, finance, HR,...</td>\n",
       "      <td>manufacture production processing assembly, re...</td>\n",
       "      <td></td>\n",
       "      <td></td>\n",
       "      <td>2</td>\n",
       "    </tr>\n",
       "    <tr>\n",
       "      <td>1</td>\n",
       "      <td>b5e3f6d4-30bc-443c-a9d6-8ed41d5c33b3</td>\n",
       "      <td>[b'&lt;!DOCTYPE html&gt;\\n&lt;html lang=\"en-US\"&gt;\\n  &lt;he...</td>\n",
       "      <td>[SAP Integrated Business Planning (IBP)\\nSAP A...</td>\n",
       "      <td>[budgeting, decision, cycles, closing, Simplif...</td>\n",
       "      <td>IT consultancy, IT support services, IT manage...</td>\n",
       "      <td>distribution, sale, trade, wholesale, retail s...</td>\n",
       "      <td></td>\n",
       "      <td></td>\n",
       "      <td>2</td>\n",
       "    </tr>\n",
       "    <tr>\n",
       "      <td>2</td>\n",
       "      <td>997ae1ab-93c4-45a9-9bd0-a49b2b952f1f</td>\n",
       "      <td>[b'&lt;!doctype html&gt;\\n&lt;html lang=\"en-US\"&gt;\\n&lt;head...</td>\n",
       "      <td>[facebook\\ntwitter\\nlinkedin\\ninstagram\\nWelco...</td>\n",
       "      <td>[]</td>\n",
       "      <td>general accounting, auditing, book keeping act...</td>\n",
       "      <td>manufacture, production, processing, distribut...</td>\n",
       "      <td></td>\n",
       "      <td></td>\n",
       "      <td>1</td>\n",
       "    </tr>\n",
       "    <tr>\n",
       "      <td>3</td>\n",
       "      <td>6890f2f1-bdc1-48cb-bf7f-00944eb37e77</td>\n",
       "      <td>[b'&lt;?xml version=\"1.0\" encoding=\"iso-8859-1\"?&gt;...</td>\n",
       "      <td>[ANDERSON BUSINESS TRAVEL\\nSpecialist Independ...</td>\n",
       "      <td>[provide, service, financial, arranging, trave...</td>\n",
       "      <td>insurance brokerage, insurance agents, travel ...</td>\n",
       "      <td>software development, wholesale, retail sale, ...</td>\n",
       "      <td></td>\n",
       "      <td></td>\n",
       "      <td>2</td>\n",
       "    </tr>\n",
       "    <tr>\n",
       "      <td>4</td>\n",
       "      <td>74a95f04-e440-4af0-850a-eec5a44ba397</td>\n",
       "      <td>[b'\\r\\n\\r\\n&lt;!DOCTYPE html&gt;\\r\\n\\r\\n&lt;html xmlns=...</td>\n",
       "      <td>[Amari Ireland Ltd\\nStandards\\nPeople\\nQuality...</td>\n",
       "      <td>[independent, centre, forms, copper, bronze, s...</td>\n",
       "      <td>sales agent and sales representative, product ...</td>\n",
       "      <td>manufacture, production, processing and retail...</td>\n",
       "      <td>product, motor vehicles, buses and trucks, mot...</td>\n",
       "      <td></td>\n",
       "      <td>1</td>\n",
       "    </tr>\n",
       "  </tbody>\n",
       "</table>\n",
       "</div>"
      ],
      "text/plain": [
       "                                     id  \\\n",
       "0  b811ea46-1bc5-4a18-a64c-7504c382da44   \n",
       "1  b5e3f6d4-30bc-443c-a9d6-8ed41d5c33b3   \n",
       "2  997ae1ab-93c4-45a9-9bd0-a49b2b952f1f   \n",
       "3  6890f2f1-bdc1-48cb-bf7f-00944eb37e77   \n",
       "4  74a95f04-e440-4af0-850a-eec5a44ba397   \n",
       "\n",
       "                                                html  \\\n",
       "0  [b'<!DOCTYPE html>\\n<html lang=\"en\" class=\"pre...   \n",
       "1  [b'<!DOCTYPE html>\\n<html lang=\"en-US\">\\n  <he...   \n",
       "2  [b'<!doctype html>\\n<html lang=\"en-US\">\\n<head...   \n",
       "3  [b'<?xml version=\"1.0\" encoding=\"iso-8859-1\"?>...   \n",
       "4  [b'\\r\\n\\r\\n<!DOCTYPE html>\\r\\n\\r\\n<html xmlns=...   \n",
       "\n",
       "                                                text  \\\n",
       "0  [Release\\n2020\\n2019\\n2018\\n2017\\n2020\\n2019\\n...   \n",
       "1  [SAP Integrated Business Planning (IBP)\\nSAP A...   \n",
       "2  [facebook\\ntwitter\\nlinkedin\\ninstagram\\nWelco...   \n",
       "3  [ANDERSON BUSINESS TRAVEL\\nSpecialist Independ...   \n",
       "4  [Amari Ireland Ltd\\nStandards\\nPeople\\nQuality...   \n",
       "\n",
       "                                            keywords  \\\n",
       "0  [tools, services, projects, incubates, investm...   \n",
       "1  [budgeting, decision, cycles, closing, Simplif...   \n",
       "2                                                 []   \n",
       "3  [provide, service, financial, arranging, trave...   \n",
       "4  [independent, centre, forms, copper, bronze, s...   \n",
       "\n",
       "                                   accepted_function  \\\n",
       "0  accounting, bookeeping, auditing, finance, HR,...   \n",
       "1  IT consultancy, IT support services, IT manage...   \n",
       "2  general accounting, auditing, book keeping act...   \n",
       "3  insurance brokerage, insurance agents, travel ...   \n",
       "4  sales agent and sales representative, product ...   \n",
       "\n",
       "                                   rejected_function  \\\n",
       "0  manufacture production processing assembly, re...   \n",
       "1  distribution, sale, trade, wholesale, retail s...   \n",
       "2  manufacture, production, processing, distribut...   \n",
       "3  software development, wholesale, retail sale, ...   \n",
       "4  manufacture, production, processing and retail...   \n",
       "\n",
       "                                    accepted_product rejected_product  target  \n",
       "0                                                                           2  \n",
       "1                                                                           2  \n",
       "2                                                                           1  \n",
       "3                                                                           2  \n",
       "4  product, motor vehicles, buses and trucks, mot...                        1  "
      ]
     },
     "execution_count": 5,
     "metadata": {},
     "output_type": "execute_result"
    }
   ],
   "source": [
    "train.head()"
   ]
  },
  {
   "cell_type": "code",
   "execution_count": 6,
   "metadata": {},
   "outputs": [
    {
     "data": {
      "text/plain": [
       "158"
      ]
     },
     "execution_count": 6,
     "metadata": {},
     "output_type": "execute_result"
    }
   ],
   "source": [
    "train.accepted_function.nunique()"
   ]
  },
  {
   "cell_type": "code",
   "execution_count": 7,
   "metadata": {},
   "outputs": [
    {
     "data": {
      "text/plain": [
       "157"
      ]
     },
     "execution_count": 7,
     "metadata": {},
     "output_type": "execute_result"
    }
   ],
   "source": [
    "train.rejected_function.nunique()"
   ]
  },
  {
   "cell_type": "code",
   "execution_count": 8,
   "metadata": {},
   "outputs": [
    {
     "data": {
      "text/plain": [
       "53"
      ]
     },
     "execution_count": 8,
     "metadata": {},
     "output_type": "execute_result"
    }
   ],
   "source": [
    "train.accepted_product.nunique()"
   ]
  },
  {
   "cell_type": "code",
   "execution_count": 9,
   "metadata": {},
   "outputs": [
    {
     "data": {
      "text/plain": [
       "47"
      ]
     },
     "execution_count": 9,
     "metadata": {},
     "output_type": "execute_result"
    }
   ],
   "source": [
    "train.rejected_product.nunique()"
   ]
  },
  {
   "cell_type": "code",
   "execution_count": 14,
   "metadata": {},
   "outputs": [],
   "source": [
    "train['full_criterion'] = train['accepted_function'] + train['rejected_function'] + train['accepted_product'] + train['rejected_product']"
   ]
  },
  {
   "cell_type": "code",
   "execution_count": 19,
   "metadata": {},
   "outputs": [
    {
     "data": {
      "text/plain": [
       "'accounting, bookeeping, auditing, finance, HR, training, recruitment, legal, IT support services, marketing, public relations, Management consultancymanufacture production processing assembly, retail wholesale import export, software development, construction of property building, renting and sale of property, reseach and development activities, investment activities'"
      ]
     },
     "execution_count": 19,
     "metadata": {},
     "output_type": "execute_result"
    }
   ],
   "source": [
    "criterions = train['full_criterion'].unique()\n",
    "criterions[0]"
   ]
  },
  {
   "cell_type": "code",
   "execution_count": 20,
   "metadata": {},
   "outputs": [
    {
     "data": {
      "text/plain": [
       "163"
      ]
     },
     "execution_count": 20,
     "metadata": {},
     "output_type": "execute_result"
    }
   ],
   "source": [
    "len(criterions)"
   ]
  },
  {
   "cell_type": "code",
   "execution_count": 21,
   "metadata": {},
   "outputs": [
    {
     "data": {
      "text/plain": [
       "32"
      ]
     },
     "execution_count": 21,
     "metadata": {},
     "output_type": "execute_result"
    }
   ],
   "source": [
    "163//5"
   ]
  },
  {
   "cell_type": "code",
   "execution_count": 33,
   "metadata": {},
   "outputs": [],
   "source": [
    "split_idx = []\n",
    "for i in range(32, 165, 32):\n",
    "    split_idx.append(i)\n",
    "    "
   ]
  },
  {
   "cell_type": "code",
   "execution_count": 41,
   "metadata": {},
   "outputs": [],
   "source": [
    "split_idx = np.array(split_idx)"
   ]
  },
  {
   "cell_type": "code",
   "execution_count": 44,
   "metadata": {},
   "outputs": [
    {
     "data": {
      "text/plain": [
       "0"
      ]
     },
     "execution_count": 44,
     "metadata": {},
     "output_type": "execute_result"
    }
   ],
   "source": [
    "sum(split_idx < 5)"
   ]
  },
  {
   "cell_type": "code",
   "execution_count": 48,
   "metadata": {},
   "outputs": [],
   "source": [
    "df = train\n",
    "n_splits = 5"
   ]
  },
  {
   "cell_type": "code",
   "execution_count": 49,
   "metadata": {},
   "outputs": [],
   "source": [
    "df['full_criterion'] = df['accepted_function'] + df['rejected_function'] + df['accepted_product'] + df['rejected_product']\n",
    "criterions = df['full_criterion'].unique()\n",
    "n_criterions = len(criterions)\n",
    "crit_in_split = n_criterions // n_splits"
   ]
  },
  {
   "cell_type": "code",
   "execution_count": 50,
   "metadata": {},
   "outputs": [],
   "source": [
    "split_idx = []\n",
    "for i in range(crit_in_split, n_criterions, crit_in_split):\n",
    "    split_idx.append(i)\n",
    "if split_idx[len(split_idx) - 1] != n_criterions:\n",
    "    split_idx[len(split_idx) - 1] = n_criterions\n",
    "split_idx = np.array(split_idx)"
   ]
  },
  {
   "cell_type": "code",
   "execution_count": 51,
   "metadata": {},
   "outputs": [
    {
     "data": {
      "text/plain": [
       "array([ 32,  64,  96, 128, 163])"
      ]
     },
     "execution_count": 51,
     "metadata": {},
     "output_type": "execute_result"
    }
   ],
   "source": [
    "split_idx"
   ]
  },
  {
   "cell_type": "code",
   "execution_count": 60,
   "metadata": {},
   "outputs": [
    {
     "data": {
      "text/plain": [
       "0"
      ]
     },
     "execution_count": 60,
     "metadata": {},
     "output_type": "execute_result"
    }
   ],
   "source": [
    "np.where(criterions == crit)[0][0]"
   ]
  },
  {
   "cell_type": "code",
   "execution_count": 57,
   "metadata": {},
   "outputs": [
    {
     "data": {
      "text/plain": [
       "'accounting, bookeeping, auditing, finance, HR, training, recruitment, legal, IT support services, marketing, public relations, Management consultancymanufacture production processing assembly, retail wholesale import export, software development, construction of property building, renting and sale of property, reseach and development activities, investment activities'"
      ]
     },
     "execution_count": 57,
     "metadata": {},
     "output_type": "execute_result"
    }
   ],
   "source": [
    "df['full_criterion'][0]"
   ]
  },
  {
   "cell_type": "code",
   "execution_count": 69,
   "metadata": {},
   "outputs": [
    {
     "name": "stderr",
     "output_type": "stream",
     "text": [
      "/Users/nazariinyzhnyk/anaconda3/lib/python3.7/site-packages/ipykernel_launcher.py:4: SettingWithCopyWarning: \n",
      "A value is trying to be set on a copy of a slice from a DataFrame\n",
      "\n",
      "See the caveats in the documentation: http://pandas.pydata.org/pandas-docs/stable/user_guide/indexing.html#returning-a-view-versus-a-copy\n",
      "  after removing the cwd from sys.path.\n"
     ]
    }
   ],
   "source": [
    "df['fold'] = None\n",
    "criterions = list(criterions)\n",
    "for i in range(len(df['full_criterion'])):\n",
    "    df['fold'][i] = sum(split_idx < criterions.index(df['full_criterion'][i]))"
   ]
  },
  {
   "cell_type": "code",
   "execution_count": 76,
   "metadata": {},
   "outputs": [
    {
     "data": {
      "text/html": [
       "<div>\n",
       "<style scoped>\n",
       "    .dataframe tbody tr th:only-of-type {\n",
       "        vertical-align: middle;\n",
       "    }\n",
       "\n",
       "    .dataframe tbody tr th {\n",
       "        vertical-align: top;\n",
       "    }\n",
       "\n",
       "    .dataframe thead th {\n",
       "        text-align: right;\n",
       "    }\n",
       "</style>\n",
       "<table border=\"1\" class=\"dataframe\">\n",
       "  <thead>\n",
       "    <tr style=\"text-align: right;\">\n",
       "      <th></th>\n",
       "      <th>target</th>\n",
       "    </tr>\n",
       "    <tr>\n",
       "      <th>fold</th>\n",
       "      <th></th>\n",
       "    </tr>\n",
       "  </thead>\n",
       "  <tbody>\n",
       "    <tr>\n",
       "      <td>0</td>\n",
       "      <td>4219</td>\n",
       "    </tr>\n",
       "    <tr>\n",
       "      <td>1</td>\n",
       "      <td>3843</td>\n",
       "    </tr>\n",
       "    <tr>\n",
       "      <td>2</td>\n",
       "      <td>3963</td>\n",
       "    </tr>\n",
       "    <tr>\n",
       "      <td>3</td>\n",
       "      <td>3349</td>\n",
       "    </tr>\n",
       "    <tr>\n",
       "      <td>4</td>\n",
       "      <td>2083</td>\n",
       "    </tr>\n",
       "  </tbody>\n",
       "</table>\n",
       "</div>"
      ],
      "text/plain": [
       "      target\n",
       "fold        \n",
       "0       4219\n",
       "1       3843\n",
       "2       3963\n",
       "3       3349\n",
       "4       2083"
      ]
     },
     "execution_count": 76,
     "metadata": {},
     "output_type": "execute_result"
    }
   ],
   "source": [
    "df.groupby('fold').sum()"
   ]
  },
  {
   "cell_type": "code",
   "execution_count": 80,
   "metadata": {},
   "outputs": [],
   "source": [
    "df = train"
   ]
  },
  {
   "cell_type": "code",
   "execution_count": 82,
   "metadata": {},
   "outputs": [
    {
     "name": "stderr",
     "output_type": "stream",
     "text": [
      "/Users/nazariinyzhnyk/anaconda3/lib/python3.7/site-packages/ipykernel_launcher.py:17: SettingWithCopyWarning: \n",
      "A value is trying to be set on a copy of a slice from a DataFrame\n",
      "\n",
      "See the caveats in the documentation: http://pandas.pydata.org/pandas-docs/stable/user_guide/indexing.html#returning-a-view-versus-a-copy\n"
     ]
    }
   ],
   "source": [
    "df_len = len(df)\n",
    "df['full_criterion'] = df['accepted_function'] + df['rejected_function'] + df['accepted_product'] + df['rejected_product']\n",
    "criterions = df['full_criterion'].unique()\n",
    "n_criterions = len(criterions)\n",
    "crit_in_split = n_criterions // n_splits\n",
    "\n",
    "split_idx = []\n",
    "for i in range(crit_in_split, n_criterions, crit_in_split):\n",
    "    split_idx.append(i)\n",
    "if split_idx[len(split_idx) - 1] != n_criterions:\n",
    "    split_idx[len(split_idx) - 1] = n_criterions\n",
    "split_idx = np.array(split_idx)\n",
    "\n",
    "df['fold'] = None\n",
    "criterions = list(criterions)\n",
    "for i in range(len(df['full_criterion'])):\n",
    "    df['fold'][i] = sum(split_idx < criterions.index(df['full_criterion'][i]))"
   ]
  },
  {
   "cell_type": "code",
   "execution_count": 86,
   "metadata": {},
   "outputs": [],
   "source": [
    "i = 0\n",
    "splt_idx = []"
   ]
  },
  {
   "cell_type": "code",
   "execution_count": 88,
   "metadata": {},
   "outputs": [
    {
     "data": {
      "text/plain": [
       "3811"
      ]
     },
     "execution_count": 88,
     "metadata": {},
     "output_type": "execute_result"
    }
   ],
   "source": [
    "test_idx = df.index[df['fold'] == i].tolist()\n",
    "len(test_idx)"
   ]
  },
  {
   "cell_type": "code",
   "execution_count": 94,
   "metadata": {},
   "outputs": [
    {
     "data": {
      "text/plain": [
       "11704"
      ]
     },
     "execution_count": 94,
     "metadata": {},
     "output_type": "execute_result"
    }
   ],
   "source": [
    "train_idx = df.index[df['fold'] != i].tolist()\n",
    "len(train_idx)"
   ]
  },
  {
   "cell_type": "code",
   "execution_count": 91,
   "metadata": {},
   "outputs": [],
   "source": [
    "train_idx = random.shuffle(train_idx)\n"
   ]
  },
  {
   "cell_type": "code",
   "execution_count": 99,
   "metadata": {},
   "outputs": [
    {
     "data": {
      "text/plain": [
       "11704"
      ]
     },
     "execution_count": 99,
     "metadata": {},
     "output_type": "execute_result"
    }
   ],
   "source": [
    "len(np.unique(random.sample(train_idx, len(train_idx))))"
   ]
  },
  {
   "cell_type": "code",
   "execution_count": 85,
   "metadata": {},
   "outputs": [
    {
     "name": "stdout",
     "output_type": "stream",
     "text": [
      "\n",
      "Split : 0\n"
     ]
    },
    {
     "ename": "TypeError",
     "evalue": "object of type 'NoneType' has no len()",
     "traceback": [
      "\u001b[0;31m---------------------------------------------------------------------------\u001b[0m",
      "\u001b[0;31mTypeError\u001b[0m                                 Traceback (most recent call last)",
      "\u001b[0;32m<ipython-input-85-9010fb52a542>\u001b[0m in \u001b[0;36m<module>\u001b[0;34m\u001b[0m\n\u001b[1;32m      7\u001b[0m     \u001b[0msplt_idx\u001b[0m\u001b[0;34m.\u001b[0m\u001b[0mappend\u001b[0m\u001b[0;34m(\u001b[0m\u001b[0;34m(\u001b[0m\u001b[0mtrain_idx\u001b[0m\u001b[0;34m,\u001b[0m \u001b[0mtest_idx\u001b[0m\u001b[0;34m)\u001b[0m\u001b[0;34m)\u001b[0m\u001b[0;34m\u001b[0m\u001b[0;34m\u001b[0m\u001b[0m\n\u001b[1;32m      8\u001b[0m     \u001b[0mprint\u001b[0m\u001b[0;34m(\u001b[0m\u001b[0;34m'\\nSplit : '\u001b[0m \u001b[0;34m+\u001b[0m \u001b[0mstr\u001b[0m\u001b[0;34m(\u001b[0m\u001b[0mi\u001b[0m\u001b[0;34m)\u001b[0m\u001b[0;34m)\u001b[0m\u001b[0;34m\u001b[0m\u001b[0;34m\u001b[0m\u001b[0m\n\u001b[0;32m----> 9\u001b[0;31m     \u001b[0mprint\u001b[0m\u001b[0;34m(\u001b[0m\u001b[0;34m'Len train : '\u001b[0m \u001b[0;34m+\u001b[0m \u001b[0mstr\u001b[0m\u001b[0;34m(\u001b[0m\u001b[0mlen\u001b[0m\u001b[0;34m(\u001b[0m\u001b[0mtrain_idx\u001b[0m\u001b[0;34m)\u001b[0m\u001b[0;34m)\u001b[0m\u001b[0;34m)\u001b[0m\u001b[0;34m\u001b[0m\u001b[0;34m\u001b[0m\u001b[0m\n\u001b[0m\u001b[1;32m     10\u001b[0m     \u001b[0mprint\u001b[0m\u001b[0;34m(\u001b[0m\u001b[0;34m'Len test : '\u001b[0m \u001b[0;34m+\u001b[0m \u001b[0mstr\u001b[0m\u001b[0;34m(\u001b[0m\u001b[0mlen\u001b[0m\u001b[0;34m(\u001b[0m\u001b[0mtest_idx\u001b[0m\u001b[0;34m)\u001b[0m\u001b[0;34m)\u001b[0m\u001b[0;34m)\u001b[0m\u001b[0;34m\u001b[0m\u001b[0;34m\u001b[0m\u001b[0m\n\u001b[1;32m     11\u001b[0m     \u001b[0mprint\u001b[0m\u001b[0;34m(\u001b[0m\u001b[0;34m'======='\u001b[0m\u001b[0;34m)\u001b[0m\u001b[0;34m\u001b[0m\u001b[0;34m\u001b[0m\u001b[0m\n",
      "\u001b[0;31mTypeError\u001b[0m: object of type 'NoneType' has no len()"
     ],
     "output_type": "error"
    }
   ],
   "source": [
    "test_idx = df.index[df['fold'] == i].tolist()\n",
    "train_idx = df.index[df['fold'] != i].tolist()\n",
    "test_idx = random.shuffle(test_idx)\n",
    "train_idx = random.shuffle(train_idx)\n",
    "splt_idx.append((train_idx, test_idx))\n",
    "print('\\nSplit : ' + str(i))\n",
    "print('Len train : ' + str(len(train_idx)))\n",
    "print('Len test : ' + str(len(test_idx)))\n",
    "print('=======')"
   ]
  },
  {
   "cell_type": "code",
   "execution_count": 77,
   "metadata": {},
   "outputs": [],
   "source": [
    "import random"
   ]
  },
  {
   "cell_type": "code",
   "execution_count": 102,
   "metadata": {},
   "outputs": [],
   "source": [
    "def get_kfold_with_seacrh_criteria(df, n_splits=5, shuffle=True):\n",
    "    df_len = len(df)\n",
    "    df['full_criterion'] = df['accepted_function'] + df['rejected_function'] + df['accepted_product'] + df['rejected_product']\n",
    "    criterions = df['full_criterion'].unique()\n",
    "    n_criterions = len(criterions)\n",
    "    crit_in_split = n_criterions // n_splits\n",
    "    \n",
    "    split_idx = []\n",
    "    for i in range(crit_in_split, n_criterions, crit_in_split):\n",
    "        split_idx.append(i)\n",
    "    if split_idx[len(split_idx) - 1] != n_criterions:\n",
    "        split_idx[len(split_idx) - 1] = n_criterions\n",
    "    split_idx = np.array(split_idx)\n",
    "    \n",
    "    df['fold'] = None\n",
    "    criterions = list(criterions)\n",
    "    for i in range(len(df['full_criterion'])):\n",
    "        df['fold'][i] = sum(split_idx < criterions.index(df['full_criterion'][i]))\n",
    "    \n",
    "    splt_idx = []\n",
    "    for i in range(n_splits):\n",
    "        test_idx = df.index[df['fold'] == i].tolist()\n",
    "        train_idx = df.index[df['fold'] != i].tolist()\n",
    "        test_idx = random.sample(test_idx, len(test_idx))\n",
    "        train_idx = random.sample(train_idx, len(train_idx))\n",
    "        splt_idx.append((train_idx, test_idx))\n",
    "        print('\\nSplit : ' + str(i))\n",
    "        print('Len train : ' + str(len(train_idx)))\n",
    "        print('Len test : ' + str(len(test_idx)))\n",
    "        print('=======')\n",
    "    return splt_idx"
   ]
  },
  {
   "cell_type": "code",
   "execution_count": 103,
   "metadata": {},
   "outputs": [
    {
     "name": "stderr",
     "output_type": "stream",
     "text": [
      "/Users/nazariinyzhnyk/anaconda3/lib/python3.7/site-packages/ipykernel_launcher.py:18: SettingWithCopyWarning: \n",
      "A value is trying to be set on a copy of a slice from a DataFrame\n",
      "\n",
      "See the caveats in the documentation: http://pandas.pydata.org/pandas-docs/stable/user_guide/indexing.html#returning-a-view-versus-a-copy\n"
     ]
    },
    {
     "name": "stdout",
     "output_type": "stream",
     "text": [
      "\n",
      "Split : 0\n",
      "Len train : 11704\n",
      "Len test : 3811\n",
      "=======\n",
      "\n",
      "Split : 1\n",
      "Len train : 11954\n",
      "Len test : 3561\n",
      "=======\n",
      "\n",
      "Split : 2\n",
      "Len train : 12102\n",
      "Len test : 3413\n",
      "=======\n",
      "\n",
      "Split : 3\n",
      "Len train : 12525\n",
      "Len test : 2990\n",
      "=======\n",
      "\n",
      "Split : 4\n",
      "Len train : 13775\n",
      "Len test : 1740\n",
      "=======\n"
     ]
    }
   ],
   "source": [
    "folds = get_kfold_with_seacrh_criteria(train)"
   ]
  },
  {
   "cell_type": "code",
   "execution_count": 107,
   "metadata": {},
   "outputs": [
    {
     "name": "stdout",
     "output_type": "stream",
     "text": [
      "11704\n",
      "3811\n",
      "11954\n",
      "3561\n",
      "12102\n",
      "3413\n",
      "12525\n",
      "2990\n",
      "13775\n",
      "1740\n"
     ]
    }
   ],
   "source": [
    "for train_idx, test_idx in folds:\n",
    "    print(len(train_idx))\n",
    "    print(len(test_idx))"
   ]
  },
  {
   "cell_type": "code",
   "execution_count": null,
   "metadata": {},
   "outputs": [],
   "source": []
  }
 ],
 "metadata": {
  "kernelspec": {
   "display_name": "Python 3",
   "language": "python",
   "name": "python3"
  },
  "language_info": {
   "codemirror_mode": {
    "name": "ipython",
    "version": 3
   },
   "file_extension": ".py",
   "mimetype": "text/x-python",
   "name": "python",
   "nbconvert_exporter": "python",
   "pygments_lexer": "ipython3",
   "version": "3.7.4"
  }
 },
 "nbformat": 4,
 "nbformat_minor": 4
}
