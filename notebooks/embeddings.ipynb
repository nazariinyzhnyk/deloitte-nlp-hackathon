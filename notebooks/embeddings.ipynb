{
 "cells": [
  {
   "cell_type": "code",
   "execution_count": 7,
   "metadata": {},
   "outputs": [],
   "source": [
    "import os\n",
    "import re\n",
    "import pickle\n",
    "\n",
    "import numpy as np\n",
    "import pandas as pd\n",
    "import matplotlib.pyplot as plt"
   ]
  },
  {
   "cell_type": "code",
   "execution_count": 2,
   "metadata": {},
   "outputs": [],
   "source": [
    "DATA_DIR = os.path.join('..', 'data')"
   ]
  },
  {
   "cell_type": "code",
   "execution_count": 73,
   "metadata": {},
   "outputs": [],
   "source": [
    "train = pd.read_pickle(os.path.join(DATA_DIR, 'train_df.pkl'))\n",
    "test = pd.read_pickle(os.path.join(DATA_DIR, 'test_df.pkl'))"
   ]
  },
  {
   "cell_type": "code",
   "execution_count": 8,
   "metadata": {},
   "outputs": [],
   "source": [
    "def clear_text(text):\n",
    "    text = re.sub(\"\\n|\\r|\\t\", \" \", text)\n",
    "    text = re.sub(\"[^\\w\\s]\", \" \", text)\n",
    "    text = re.sub(\" +\",\" \", text.strip())\n",
    "    return text\n",
    "\n",
    "def make_one_text(texts):\n",
    "    final_text = \"\"\n",
    "    \n",
    "    for text in texts:\n",
    "        final_text += clear_text(text) + \" \"\n",
    "    \n",
    "    return final_text.strip()\n",
    "\n",
    "\n",
    "train[\"clear_text\"] = train[\"text\"].apply(make_one_text)"
   ]
  },
  {
   "cell_type": "code",
   "execution_count": 71,
   "metadata": {},
   "outputs": [
    {
     "data": {
      "text/plain": [
       "0        [Release\\n2020\\n2019\\n2018\\n2017\\n2020\\n2019\\n...\n",
       "1        [SAP Integrated Business Planning (IBP)\\nSAP A...\n",
       "2        [facebook\\ntwitter\\nlinkedin\\ninstagram\\nWelco...\n",
       "3        [ANDERSON BUSINESS TRAVEL\\nSpecialist Independ...\n",
       "4        [Amari Ireland Ltd\\nStandards\\nPeople\\nQuality...\n",
       "                               ...                        \n",
       "15510    [About Thule Group\\nStrategic building blocks\\...\n",
       "15511    [Solutions\\nEnterprise\\nBank\\nConstruction\\nSc...\n",
       "15512    [[wpml_language_switcher]\\nSearch\\nCompany\\nCo...\n",
       "15513    [HOME About AIT\\nAIT is an integrated logistic...\n",
       "15514    [Contact\\nLocations\\nExtranet\\nSkip navigation...\n",
       "Name: text, Length: 15515, dtype: object"
      ]
     },
     "execution_count": 71,
     "metadata": {},
     "output_type": "execute_result"
    }
   ],
   "source": [
    "train['text']"
   ]
  },
  {
   "cell_type": "code",
   "execution_count": 74,
   "metadata": {},
   "outputs": [
    {
     "data": {
      "text/plain": [
       "0       [We use cookies to tailor our service and ensu...\n",
       "1       [About us\\nAbout Powernet\\nPartnerships\\nCusto...\n",
       "2       [Work\\nApproach\\nPeople\\nValues\\nBlog\\nCareers...\n",
       "3       [Menu\\nMenu\\nSupport\\nInfrastructure\\nColocati...\n",
       "4       [Français (French)\\nEnglish (English)\\n日本語 (Ja...\n",
       "                              ...                        \n",
       "4371    [About us\\nOur Brands\\nAbout Tarsago\\nOur Bran...\n",
       "4372    [Tableware back\\nAlumina Vitrified\\nAlumina Vi...\n",
       "4373    [Component Solutions\\nDefence Products\\nSupply...\n",
       "4374    [Much more than chartered accountants\\nfr\\nen\\...\n",
       "4375    [Skip to main content\\nfacilitates sustainable...\n",
       "Name: text, Length: 4376, dtype: object"
      ]
     },
     "execution_count": 74,
     "metadata": {},
     "output_type": "execute_result"
    }
   ],
   "source": [
    "test['text']"
   ]
  },
  {
   "cell_type": "code",
   "execution_count": 77,
   "metadata": {},
   "outputs": [],
   "source": [
    "tt = list(train['text']) + list(test['text'])"
   ]
  },
  {
   "cell_type": "code",
   "execution_count": 78,
   "metadata": {},
   "outputs": [
    {
     "data": {
      "text/plain": [
       "19891"
      ]
     },
     "execution_count": 78,
     "metadata": {},
     "output_type": "execute_result"
    }
   ],
   "source": [
    "len(tt)"
   ]
  },
  {
   "cell_type": "code",
   "execution_count": 11,
   "metadata": {},
   "outputs": [
    {
     "data": {
      "text/plain": [
       "['SAP Integrated Business Planning (IBP)\\nSAP Advanced Planning & Optimization (APO)\\nPP/DS for SAP S/4HANA\\nSAP Digital Manufacturing Cloud (DMC)\\nSAP Manufacturing Intelligence and Integration (MII)\\nSAP Analytics Cloud (SAC)\\nSAP BW 4HANA\\nSAP Business Planning and Consolidation (BPC)\\nSAP S/4HANA Cloud\\nSAP S/4 HANA\\nPP/DS for SAP S/4HANA\\nABOUT US\\nAbout Us\\nBLOG\\nTALENT\\nCONTACT\\nIdioma\\nShare\\nBuscador\\nes\\nTwitter\\nLinkedin\\nContactar\\nThe Best adjustment of plans and forecasts\\nSAP BPC- Business Planning and Consolidation\\nSAP Business Planning and Consolidation (SAP BPC) offers planning, budgeting, simulation and financial and legal consolidation capabilities. In this way you can easily generate plans and forecasts, accelerate the budget and closing cycles, and ensure compliance with financial regulations.\\nAvailable on-premise and Cloud\\nIntegration of SAP data and external data\\nReal-time access to data in SAP S/4 HANA\\nHybrid implementation with SAP Analytics Cloud\\nVersions available for SAP BW/4HANA, SAP S/4 HANA, SAP NetWeaver or the Microsoft platform\\nSimplification of the planning, consolidation, accounting closing and simulation processes\\nMore precise plans, budgets and forecasts\\nImprove decision making, based on what-if analysis and planning scenarios for better results\\nImprove data quality through the use of a single central repository\\nUse collaboration tools to improve planning accuracy\\nReduce cycle times, close books faster and aligh your plans with strategic objectives\\nBudgeting and consolidation guided process.\\nUser tool, allows end users to control the tool without going through IT\\nNative integration in the SAP ecosystem\\nWe are specialists: Saptools is a SAP SCM South EMEA Reference Partner.\\nWe strongly believe in SAP and its best innovative solutions, in order to provide to our clients the most added-value proposition.\\nCloseness and commitment to our clients are the pillars of our way of understanding projects.\\nExpert team, with in-depth knowledge and broad experience in the implementation of SAP projects in the industrial environment.\\nPrepare your company for the future and obtain a personalized DEMO.\\nREQUEST A DEMO\\nCompartir a redes sociales\\n']"
      ]
     },
     "execution_count": 11,
     "metadata": {},
     "output_type": "execute_result"
    }
   ],
   "source": [
    "train['text'][1]"
   ]
  },
  {
   "cell_type": "code",
   "execution_count": 12,
   "metadata": {},
   "outputs": [
    {
     "data": {
      "text/plain": [
       "'SAP Integrated Business Planning IBP SAP Advanced Planning Optimization APO PP DS for SAP S 4HANA SAP Digital Manufacturing Cloud DMC SAP Manufacturing Intelligence and Integration MII SAP Analytics Cloud SAC SAP BW 4HANA SAP Business Planning and Consolidation BPC SAP S 4HANA Cloud SAP S 4 HANA PP DS for SAP S 4HANA ABOUT US About Us BLOG TALENT CONTACT Idioma Share Buscador es Twitter Linkedin Contactar The Best adjustment of plans and forecasts SAP BPC Business Planning and Consolidation SAP Business Planning and Consolidation SAP BPC offers planning budgeting simulation and financial and legal consolidation capabilities In this way you can easily generate plans and forecasts accelerate the budget and closing cycles and ensure compliance with financial regulations Available on premise and Cloud Integration of SAP data and external data Real time access to data in SAP S 4 HANA Hybrid implementation with SAP Analytics Cloud Versions available for SAP BW 4HANA SAP S 4 HANA SAP NetWeaver or the Microsoft platform Simplification of the planning consolidation accounting closing and simulation processes More precise plans budgets and forecasts Improve decision making based on what if analysis and planning scenarios for better results Improve data quality through the use of a single central repository Use collaboration tools to improve planning accuracy Reduce cycle times close books faster and aligh your plans with strategic objectives Budgeting and consolidation guided process User tool allows end users to control the tool without going through IT Native integration in the SAP ecosystem We are specialists Saptools is a SAP SCM South EMEA Reference Partner We strongly believe in SAP and its best innovative solutions in order to provide to our clients the most added value proposition Closeness and commitment to our clients are the pillars of our way of understanding projects Expert team with in depth knowledge and broad experience in the implementation of SAP projects in the industrial environment Prepare your company for the future and obtain a personalized DEMO REQUEST A DEMO Compartir a redes sociales'"
      ]
     },
     "execution_count": 12,
     "metadata": {},
     "output_type": "execute_result"
    }
   ],
   "source": [
    "train['clear_text'][1]"
   ]
  },
  {
   "cell_type": "code",
   "execution_count": 15,
   "metadata": {},
   "outputs": [
    {
     "name": "stdout",
     "output_type": "stream",
     "text": [
      "Collecting spacy\n",
      "\u001b[?25l  Downloading https://files.pythonhosted.org/packages/a7/90/785efc7bd26ff8e399f03d02b259216cf29b389a8f3c2412624f0ac32b00/spacy-2.2.4-cp37-cp37m-macosx_10_9_x86_64.whl (10.5MB)\n",
      "\u001b[K     |████████████████████████████████| 10.5MB 5.0MB/s eta 0:00:01\n",
      "\u001b[?25hCollecting tqdm<5.0.0,>=4.38.0 (from spacy)\n",
      "\u001b[?25l  Downloading https://files.pythonhosted.org/packages/4a/1c/6359be64e8301b84160f6f6f7936bbfaaa5e9a4eab6cbc681db07600b949/tqdm-4.45.0-py2.py3-none-any.whl (60kB)\n",
      "\u001b[K     |████████████████████████████████| 61kB 5.0MB/s eta 0:00:011\n",
      "\u001b[?25hRequirement already satisfied: setuptools in /Users/nazariinyzhnyk/anaconda3/lib/python3.7/site-packages (from spacy) (41.4.0)\n",
      "Collecting thinc==7.4.0 (from spacy)\n",
      "\u001b[?25l  Downloading https://files.pythonhosted.org/packages/1c/4b/6b49c6e576890b806fab44c2983f3dc1723d38accb2c2193a8da15e88ffb/thinc-7.4.0-cp37-cp37m-macosx_10_9_x86_64.whl (2.2MB)\n",
      "\u001b[K     |████████████████████████████████| 2.2MB 2.3MB/s eta 0:00:01\n",
      "\u001b[?25hCollecting catalogue<1.1.0,>=0.0.7 (from spacy)\n",
      "  Downloading https://files.pythonhosted.org/packages/6c/f9/9a5658e2f56932e41eb264941f9a2cb7f3ce41a80cb36b2af6ab78e2f8af/catalogue-1.0.0-py2.py3-none-any.whl\n",
      "Requirement already satisfied: numpy>=1.15.0 in /Users/nazariinyzhnyk/anaconda3/lib/python3.7/site-packages (from spacy) (1.16.4)\n",
      "Collecting wasabi<1.1.0,>=0.4.0 (from spacy)\n",
      "  Downloading https://files.pythonhosted.org/packages/21/e1/e4e7b754e6be3a79c400eb766fb34924a6d278c43bb828f94233e0124a21/wasabi-0.6.0-py3-none-any.whl\n",
      "Collecting plac<1.2.0,>=0.9.6 (from spacy)\n",
      "  Using cached https://files.pythonhosted.org/packages/86/85/40b8f66c2dd8f4fd9f09d59b22720cffecf1331e788b8a0cab5bafb353d1/plac-1.1.3-py2.py3-none-any.whl\n",
      "Collecting preshed<3.1.0,>=3.0.2 (from spacy)\n",
      "\u001b[?25l  Downloading https://files.pythonhosted.org/packages/c7/3e/9aaba1f8c0cb69e57ebeb411cc1b65b3f6bfc3572dd68969a6d3e59288f6/preshed-3.0.2-cp37-cp37m-macosx_10_6_intel.macosx_10_9_intel.macosx_10_9_x86_64.macosx_10_10_intel.macosx_10_10_x86_64.whl (211kB)\n",
      "\u001b[K     |████████████████████████████████| 215kB 2.9MB/s eta 0:00:01\n",
      "\u001b[?25hCollecting srsly<1.1.0,>=1.0.2 (from spacy)\n",
      "\u001b[?25l  Downloading https://files.pythonhosted.org/packages/77/21/2bfb8d559ed128b43e3a12e28579ab5f6b043f1ac079168de3025c0d0a39/srsly-1.0.2-cp37-cp37m-macosx_10_9_x86_64.whl (182kB)\n",
      "\u001b[K     |████████████████████████████████| 184kB 12.1MB/s eta 0:00:01\n",
      "\u001b[?25hCollecting murmurhash<1.1.0,>=0.28.0 (from spacy)\n",
      "  Downloading https://files.pythonhosted.org/packages/b9/bd/faace403086ee922afc74e5615cb8c21020fcf5d5667314e943c08f71fde/murmurhash-1.0.2-cp37-cp37m-macosx_10_6_intel.macosx_10_9_intel.macosx_10_9_x86_64.macosx_10_10_intel.macosx_10_10_x86_64.whl\n",
      "Requirement already satisfied: requests<3.0.0,>=2.13.0 in /Users/nazariinyzhnyk/anaconda3/lib/python3.7/site-packages (from spacy) (2.22.0)\n",
      "Collecting cymem<2.1.0,>=2.0.2 (from spacy)\n",
      "\u001b[?25l  Downloading https://files.pythonhosted.org/packages/63/34/a8b682ee9b57db35a5fe4e179b77c1bda0f6a09745669a99cfc27aa2bed7/cymem-2.0.3-cp37-cp37m-macosx_10_6_intel.whl (54kB)\n",
      "\u001b[K     |████████████████████████████████| 61kB 9.1MB/s eta 0:00:01\n",
      "\u001b[?25hCollecting blis<0.5.0,>=0.4.0 (from spacy)\n",
      "\u001b[?25l  Downloading https://files.pythonhosted.org/packages/85/d8/f0be9d8ebec9cbeea1427de6ac0ecc919c0bfe881eff2d2965dbc310ca8b/blis-0.4.1-cp37-cp37m-macosx_10_6_intel.macosx_10_9_intel.macosx_10_9_x86_64.macosx_10_10_intel.macosx_10_10_x86_64.whl (4.0MB)\n",
      "\u001b[K     |████████████████████████████████| 4.0MB 5.2MB/s eta 0:00:01\n",
      "\u001b[?25hRequirement already satisfied: importlib-metadata>=0.20; python_version < \"3.8\" in /Users/nazariinyzhnyk/anaconda3/lib/python3.7/site-packages (from catalogue<1.1.0,>=0.0.7->spacy) (0.23)\n",
      "Requirement already satisfied: idna<2.9,>=2.5 in /Users/nazariinyzhnyk/anaconda3/lib/python3.7/site-packages (from requests<3.0.0,>=2.13.0->spacy) (2.8)\n",
      "Requirement already satisfied: chardet<3.1.0,>=3.0.2 in /Users/nazariinyzhnyk/anaconda3/lib/python3.7/site-packages (from requests<3.0.0,>=2.13.0->spacy) (3.0.4)\n",
      "Requirement already satisfied: urllib3!=1.25.0,!=1.25.1,<1.26,>=1.21.1 in /Users/nazariinyzhnyk/anaconda3/lib/python3.7/site-packages (from requests<3.0.0,>=2.13.0->spacy) (1.24.2)\n",
      "Requirement already satisfied: certifi>=2017.4.17 in /Users/nazariinyzhnyk/anaconda3/lib/python3.7/site-packages (from requests<3.0.0,>=2.13.0->spacy) (2019.9.11)\n",
      "Requirement already satisfied: zipp>=0.5 in /Users/nazariinyzhnyk/anaconda3/lib/python3.7/site-packages (from importlib-metadata>=0.20; python_version < \"3.8\"->catalogue<1.1.0,>=0.0.7->spacy) (0.6.0)\n",
      "Requirement already satisfied: more-itertools in /Users/nazariinyzhnyk/anaconda3/lib/python3.7/site-packages (from zipp>=0.5->importlib-metadata>=0.20; python_version < \"3.8\"->catalogue<1.1.0,>=0.0.7->spacy) (7.2.0)\n",
      "Installing collected packages: tqdm, srsly, cymem, murmurhash, preshed, wasabi, catalogue, plac, blis, thinc, spacy\n",
      "  Found existing installation: tqdm 4.36.1\n",
      "    Uninstalling tqdm-4.36.1:\n",
      "      Successfully uninstalled tqdm-4.36.1\n",
      "Successfully installed blis-0.4.1 catalogue-1.0.0 cymem-2.0.3 murmurhash-1.0.2 plac-1.1.3 preshed-3.0.2 spacy-2.2.4 srsly-1.0.2 thinc-7.4.0 tqdm-4.45.0 wasabi-0.6.0\n"
     ]
    }
   ],
   "source": [
    "!pip install spacy"
   ]
  },
  {
   "cell_type": "code",
   "execution_count": 22,
   "metadata": {},
   "outputs": [
    {
     "name": "stdout",
     "output_type": "stream",
     "text": [
      "Collecting en_core_web_sm==2.2.5 from https://github.com/explosion/spacy-models/releases/download/en_core_web_sm-2.2.5/en_core_web_sm-2.2.5.tar.gz#egg=en_core_web_sm==2.2.5\n",
      "\u001b[?25l  Downloading https://github.com/explosion/spacy-models/releases/download/en_core_web_sm-2.2.5/en_core_web_sm-2.2.5.tar.gz (12.0MB)\n",
      "\u001b[K     |████████████████████████████████| 12.0MB 3.4MB/s eta 0:00:01    |████████                        | 3.0MB 359kB/s eta 0:00:26\n",
      "\u001b[?25hRequirement already satisfied: spacy>=2.2.2 in /Users/nazariinyzhnyk/anaconda3/lib/python3.7/site-packages (from en_core_web_sm==2.2.5) (2.2.4)\n",
      "Requirement already satisfied: srsly<1.1.0,>=1.0.2 in /Users/nazariinyzhnyk/anaconda3/lib/python3.7/site-packages (from spacy>=2.2.2->en_core_web_sm==2.2.5) (1.0.2)\n",
      "Requirement already satisfied: numpy>=1.15.0 in /Users/nazariinyzhnyk/anaconda3/lib/python3.7/site-packages (from spacy>=2.2.2->en_core_web_sm==2.2.5) (1.16.4)\n",
      "Requirement already satisfied: blis<0.5.0,>=0.4.0 in /Users/nazariinyzhnyk/anaconda3/lib/python3.7/site-packages (from spacy>=2.2.2->en_core_web_sm==2.2.5) (0.4.1)\n",
      "Requirement already satisfied: wasabi<1.1.0,>=0.4.0 in /Users/nazariinyzhnyk/anaconda3/lib/python3.7/site-packages (from spacy>=2.2.2->en_core_web_sm==2.2.5) (0.6.0)\n",
      "Requirement already satisfied: murmurhash<1.1.0,>=0.28.0 in /Users/nazariinyzhnyk/anaconda3/lib/python3.7/site-packages (from spacy>=2.2.2->en_core_web_sm==2.2.5) (1.0.2)\n",
      "Requirement already satisfied: thinc==7.4.0 in /Users/nazariinyzhnyk/anaconda3/lib/python3.7/site-packages (from spacy>=2.2.2->en_core_web_sm==2.2.5) (7.4.0)\n",
      "Requirement already satisfied: tqdm<5.0.0,>=4.38.0 in /Users/nazariinyzhnyk/anaconda3/lib/python3.7/site-packages (from spacy>=2.2.2->en_core_web_sm==2.2.5) (4.45.0)\n",
      "Requirement already satisfied: cymem<2.1.0,>=2.0.2 in /Users/nazariinyzhnyk/anaconda3/lib/python3.7/site-packages (from spacy>=2.2.2->en_core_web_sm==2.2.5) (2.0.3)\n",
      "Requirement already satisfied: plac<1.2.0,>=0.9.6 in /Users/nazariinyzhnyk/anaconda3/lib/python3.7/site-packages (from spacy>=2.2.2->en_core_web_sm==2.2.5) (1.1.3)\n",
      "Requirement already satisfied: catalogue<1.1.0,>=0.0.7 in /Users/nazariinyzhnyk/anaconda3/lib/python3.7/site-packages (from spacy>=2.2.2->en_core_web_sm==2.2.5) (1.0.0)\n",
      "Requirement already satisfied: requests<3.0.0,>=2.13.0 in /Users/nazariinyzhnyk/anaconda3/lib/python3.7/site-packages (from spacy>=2.2.2->en_core_web_sm==2.2.5) (2.22.0)\n",
      "Requirement already satisfied: preshed<3.1.0,>=3.0.2 in /Users/nazariinyzhnyk/anaconda3/lib/python3.7/site-packages (from spacy>=2.2.2->en_core_web_sm==2.2.5) (3.0.2)\n",
      "Requirement already satisfied: setuptools in /Users/nazariinyzhnyk/anaconda3/lib/python3.7/site-packages (from spacy>=2.2.2->en_core_web_sm==2.2.5) (41.4.0)\n",
      "Requirement already satisfied: importlib-metadata>=0.20; python_version < \"3.8\" in /Users/nazariinyzhnyk/anaconda3/lib/python3.7/site-packages (from catalogue<1.1.0,>=0.0.7->spacy>=2.2.2->en_core_web_sm==2.2.5) (0.23)\n",
      "Requirement already satisfied: chardet<3.1.0,>=3.0.2 in /Users/nazariinyzhnyk/anaconda3/lib/python3.7/site-packages (from requests<3.0.0,>=2.13.0->spacy>=2.2.2->en_core_web_sm==2.2.5) (3.0.4)\n",
      "Requirement already satisfied: idna<2.9,>=2.5 in /Users/nazariinyzhnyk/anaconda3/lib/python3.7/site-packages (from requests<3.0.0,>=2.13.0->spacy>=2.2.2->en_core_web_sm==2.2.5) (2.8)\n",
      "Requirement already satisfied: certifi>=2017.4.17 in /Users/nazariinyzhnyk/anaconda3/lib/python3.7/site-packages (from requests<3.0.0,>=2.13.0->spacy>=2.2.2->en_core_web_sm==2.2.5) (2019.9.11)\n",
      "Requirement already satisfied: urllib3!=1.25.0,!=1.25.1,<1.26,>=1.21.1 in /Users/nazariinyzhnyk/anaconda3/lib/python3.7/site-packages (from requests<3.0.0,>=2.13.0->spacy>=2.2.2->en_core_web_sm==2.2.5) (1.24.2)\n",
      "Requirement already satisfied: zipp>=0.5 in /Users/nazariinyzhnyk/anaconda3/lib/python3.7/site-packages (from importlib-metadata>=0.20; python_version < \"3.8\"->catalogue<1.1.0,>=0.0.7->spacy>=2.2.2->en_core_web_sm==2.2.5) (0.6.0)\n",
      "Requirement already satisfied: more-itertools in /Users/nazariinyzhnyk/anaconda3/lib/python3.7/site-packages (from zipp>=0.5->importlib-metadata>=0.20; python_version < \"3.8\"->catalogue<1.1.0,>=0.0.7->spacy>=2.2.2->en_core_web_sm==2.2.5) (7.2.0)\n",
      "Building wheels for collected packages: en-core-web-sm\n",
      "  Building wheel for en-core-web-sm (setup.py) ... \u001b[?25ldone\n",
      "\u001b[?25h  Created wheel for en-core-web-sm: filename=en_core_web_sm-2.2.5-cp37-none-any.whl size=12011740 sha256=377f853595330f1a467b5a3c8e89e9518fa55c7271631acde89194827e170546\n",
      "  Stored in directory: /private/var/folders/x1/2lncpj1x0xl2fks4286z84k00000gn/T/pip-ephem-wheel-cache-2eln3rt6/wheels/6a/47/fb/6b5a0b8906d8e8779246c67d4658fd8a544d4a03a75520197a\n",
      "Successfully built en-core-web-sm\n",
      "Installing collected packages: en-core-web-sm\n",
      "  Found existing installation: en-core-web-sm 2.2.0\n",
      "    Uninstalling en-core-web-sm-2.2.0:\n",
      "      Successfully uninstalled en-core-web-sm-2.2.0\n",
      "Successfully installed en-core-web-sm-2.2.5\n",
      "\u001b[38;5;2m✔ Download and installation successful\u001b[0m\n",
      "You can now load the model via spacy.load('en_core_web_sm')\n",
      "\u001b[38;5;2m✔ Linking successful\u001b[0m\n",
      "/Users/nazariinyzhnyk/anaconda3/lib/python3.7/site-packages/en_core_web_sm -->\n",
      "/Users/nazariinyzhnyk/anaconda3/lib/python3.7/site-packages/spacy/data/en\n",
      "You can now load the model via spacy.load('en')\n"
     ]
    }
   ],
   "source": [
    "!python -m spacy download en"
   ]
  },
  {
   "cell_type": "code",
   "execution_count": 27,
   "metadata": {},
   "outputs": [],
   "source": [
    "import spacy\n",
    "from sklearn.feature_extraction.text import CountVectorizer,TfidfVectorizer\n",
    "from sklearn.base import TransformerMixin\n",
    "from sklearn.pipeline import Pipeline"
   ]
  },
  {
   "cell_type": "code",
   "execution_count": 25,
   "metadata": {},
   "outputs": [],
   "source": [
    "import string\n",
    "from spacy.lang.en.stop_words import STOP_WORDS\n",
    "from spacy.lang.en import English\n",
    "\n",
    "# Create our list of punctuation marks\n",
    "punctuations = string.punctuation\n",
    "\n",
    "# Create our list of stopwords\n",
    "nlp = spacy.load('en')\n",
    "stop_words = spacy.lang.en.stop_words.STOP_WORDS\n",
    "\n",
    "# Load English tokenizer, tagger, parser, NER and word vectors\n",
    "parser = English()\n",
    "\n",
    "# Creating our tokenizer function\n",
    "def spacy_tokenizer(sentence):\n",
    "    # Creating our token object, which is used to create documents with linguistic annotations.\n",
    "    mytokens = parser(sentence)\n",
    "\n",
    "    # Lemmatizing each token and converting each token into lowercase\n",
    "    mytokens = [ word.lemma_.lower().strip() if word.lemma_ != \"-PRON-\" else word.lower_ for word in mytokens ]\n",
    "\n",
    "    # Removing stop words\n",
    "    mytokens = [ word for word in mytokens if word not in stop_words and word not in punctuations ]\n",
    "\n",
    "    # return preprocessed list of tokens\n",
    "    return mytokens"
   ]
  },
  {
   "cell_type": "code",
   "execution_count": 33,
   "metadata": {},
   "outputs": [],
   "source": [
    "class predictors(TransformerMixin):\n",
    "    def transform(self, X, **transform_params):\n",
    "        # Cleaning Text\n",
    "        return [clean_text(text) for text in X]\n",
    "\n",
    "    def fit(self, X, y=None, **fit_params):\n",
    "        return self\n",
    "\n",
    "    def get_params(self, deep=True):\n",
    "        return {}\n",
    "\n",
    "# Basic function to clean the text\n",
    "def clean_text(text):\n",
    "    # Removing spaces and converting text into lowercase\n",
    "    return text.strip().lower()\n",
    "\n",
    "bow_vector = CountVectorizer(tokenizer = spacy_tokenizer, ngram_range=(1,1))"
   ]
  },
  {
   "cell_type": "code",
   "execution_count": 65,
   "metadata": {},
   "outputs": [],
   "source": [
    "from sklearn.model_selection import train_test_split\n",
    "\n",
    "X = train['clear_text'] # the features we want to analyze\n",
    "ylabels = train['target'] # the labels, or answers, we want to test against\n",
    "\n",
    "X_train, X_test, y_train, y_test = train_test_split(X, ylabels, test_size=0.3)"
   ]
  },
  {
   "cell_type": "code",
   "execution_count": 67,
   "metadata": {},
   "outputs": [],
   "source": [
    "X_emb = X\n",
    "X_emb = [clean_text(text) for text in X_emb]\n",
    "X_emb = bow_vector.fit_transform(X_emb)\n"
   ]
  },
  {
   "cell_type": "code",
   "execution_count": 70,
   "metadata": {},
   "outputs": [
    {
     "data": {
      "text/plain": [
       "166079"
      ]
     },
     "execution_count": 70,
     "metadata": {},
     "output_type": "execute_result"
    }
   ],
   "source": [
    "X_emb.shape[1]"
   ]
  },
  {
   "cell_type": "code",
   "execution_count": 35,
   "metadata": {},
   "outputs": [
    {
     "name": "stderr",
     "output_type": "stream",
     "text": [
      "/Users/nazariinyzhnyk/anaconda3/lib/python3.7/site-packages/sklearn/linear_model/logistic.py:432: FutureWarning: Default solver will be changed to 'lbfgs' in 0.22. Specify a solver to silence this warning.\n",
      "  FutureWarning)\n",
      "/Users/nazariinyzhnyk/anaconda3/lib/python3.7/site-packages/sklearn/linear_model/logistic.py:469: FutureWarning: Default multi_class will be changed to 'auto' in 0.22. Specify the multi_class option to silence this warning.\n",
      "  \"this warning.\", FutureWarning)\n",
      "/Users/nazariinyzhnyk/anaconda3/lib/python3.7/site-packages/sklearn/svm/base.py:929: ConvergenceWarning: Liblinear failed to converge, increase the number of iterations.\n",
      "  \"the number of iterations.\", ConvergenceWarning)\n"
     ]
    },
    {
     "data": {
      "text/plain": [
       "Pipeline(memory=None,\n",
       "         steps=[('cleaner', <__main__.predictors object at 0x1a666cda50>),\n",
       "                ('vectorizer',\n",
       "                 CountVectorizer(analyzer='word', binary=False,\n",
       "                                 decode_error='strict',\n",
       "                                 dtype=<class 'numpy.int64'>, encoding='utf-8',\n",
       "                                 input='content', lowercase=True, max_df=1.0,\n",
       "                                 max_features=None, min_df=1,\n",
       "                                 ngram_range=(1, 1), preprocessor=None,\n",
       "                                 stop_words=None, strip_accents=None,\n",
       "                                 tok...?u)\\\\b\\\\w\\\\w+\\\\b',\n",
       "                                 tokenizer=<function spacy_tokenizer at 0x15a669a70>,\n",
       "                                 vocabulary=None)),\n",
       "                ('classifier',\n",
       "                 LogisticRegression(C=1.0, class_weight=None, dual=False,\n",
       "                                    fit_intercept=True, intercept_scaling=1,\n",
       "                                    l1_ratio=None, max_iter=100,\n",
       "                                    multi_class='warn', n_jobs=None,\n",
       "                                    penalty='l2', random_state=None,\n",
       "                                    solver='warn', tol=0.0001, verbose=0,\n",
       "                                    warm_start=False))],\n",
       "         verbose=False)"
      ]
     },
     "execution_count": 35,
     "metadata": {},
     "output_type": "execute_result"
    }
   ],
   "source": [
    "from sklearn.linear_model import LogisticRegression\n",
    "classifier = LogisticRegression()\n",
    "\n",
    "# Create pipeline using Bag of Words\n",
    "pipe = Pipeline([(\"cleaner\", predictors()),\n",
    "                 ('vectorizer', bow_vector),\n",
    "                 ('classifier', classifier)])\n",
    "\n",
    "# model generation\n",
    "pipe.fit(X_train,y_train)"
   ]
  },
  {
   "cell_type": "code",
   "execution_count": 36,
   "metadata": {},
   "outputs": [
    {
     "name": "stdout",
     "output_type": "stream",
     "text": [
      "Logistic Regression Accuracy: 0.7591836734693878\n"
     ]
    }
   ],
   "source": [
    "from sklearn import metrics\n",
    "# Predicting with a test dataset\n",
    "predicted = pipe.predict(X_test)\n",
    "\n",
    "# Model Accuracy\n",
    "print(\"Logistic Regression Accuracy:\",metrics.accuracy_score(y_test, predicted))"
   ]
  },
  {
   "cell_type": "code",
   "execution_count": 42,
   "metadata": {},
   "outputs": [
    {
     "data": {
      "text/plain": [
       "(array([ 174.,    0.,    0.,    0.,    0., 4088.,    0.,    0.,    0.,\n",
       "         393.]),\n",
       " array([0. , 0.2, 0.4, 0.6, 0.8, 1. , 1.2, 1.4, 1.6, 1.8, 2. ]),\n",
       " <a list of 10 Patch objects>)"
      ]
     },
     "execution_count": 42,
     "metadata": {},
     "output_type": "execute_result"
    },
    {
     "data": {
      "image/png": "[encoded data removed]",
      "text/plain": [
       "<Figure size 432x288 with 1 Axes>"
      ]
     },
     "metadata": {
      "needs_background": "light"
     },
     "output_type": "display_data"
    }
   ],
   "source": [
    "plt.hist(predicted)"
   ]
  },
  {
   "cell_type": "code",
   "execution_count": 52,
   "metadata": {},
   "outputs": [],
   "source": [
    "weights = [2 if y == 2 else 1 for y in y_test]"
   ]
  },
  {
   "cell_type": "code",
   "execution_count": 53,
   "metadata": {},
   "outputs": [
    {
     "data": {
      "text/plain": [
       "5567"
      ]
     },
     "execution_count": 53,
     "metadata": {},
     "output_type": "execute_result"
    }
   ],
   "source": [
    "sum(weights)"
   ]
  },
  {
   "cell_type": "code",
   "execution_count": 54,
   "metadata": {},
   "outputs": [
    {
     "data": {
      "text/plain": [
       "4655"
      ]
     },
     "execution_count": 54,
     "metadata": {},
     "output_type": "execute_result"
    }
   ],
   "source": [
    "len(y_test)"
   ]
  },
  {
   "cell_type": "code",
   "execution_count": 62,
   "metadata": {},
   "outputs": [
    {
     "data": {
      "text/plain": [
       "0.6763068079755703"
      ]
     },
     "execution_count": 62,
     "metadata": {},
     "output_type": "execute_result"
    }
   ],
   "source": [
    "weights = [2 if y == 2 else 1 for y in y_test]\n",
    "np.sum(weights * (y_test == predicted)) / sum(weights)"
   ]
  },
  {
   "cell_type": "code",
   "execution_count": 64,
   "metadata": {},
   "outputs": [
    {
     "data": {
      "text/plain": [
       "9284     Web Services redirection server Page This is t...\n",
       "2762     Skip to content Wunder Wunder Suomi Search Clo...\n",
       "12339    Go to menu Go to content Go to search Extranet...\n",
       "12562    Your Saved Items Too many items added to your ...\n",
       "1044     Login or Register Order Coal Online Skip to co...\n",
       "                               ...                        \n",
       "2603     History Team Services Clients Success Certific...\n",
       "13954    Unit 8 Mole Business Park Randalls Road Leathe...\n",
       "8418     Analyse Cleanse Migrate Manage Archiving Traci...\n",
       "10456    Skip to content CIDI Group CIDI Services CIDI ...\n",
       "6982     History Governance Services Liquefied Natural ...\n",
       "Name: clear_text, Length: 10860, dtype: object"
      ]
     },
     "execution_count": 64,
     "metadata": {},
     "output_type": "execute_result"
    }
   ],
   "source": [
    "X"
   ]
  },
  {
   "cell_type": "code",
   "execution_count": 80,
   "metadata": {},
   "outputs": [
    {
     "data": {
      "text/html": [
       "<div>\n",
       "<style scoped>\n",
       "    .dataframe tbody tr th:only-of-type {\n",
       "        vertical-align: middle;\n",
       "    }\n",
       "\n",
       "    .dataframe tbody tr th {\n",
       "        vertical-align: top;\n",
       "    }\n",
       "\n",
       "    .dataframe thead th {\n",
       "        text-align: right;\n",
       "    }\n",
       "</style>\n",
       "<table border=\"1\" class=\"dataframe\">\n",
       "  <thead>\n",
       "    <tr style=\"text-align: right;\">\n",
       "      <th></th>\n",
       "      <th>id</th>\n",
       "      <th>html</th>\n",
       "      <th>text</th>\n",
       "      <th>keywords</th>\n",
       "      <th>accepted_function</th>\n",
       "      <th>rejected_function</th>\n",
       "      <th>accepted_product</th>\n",
       "      <th>rejected_product</th>\n",
       "    </tr>\n",
       "  </thead>\n",
       "  <tbody>\n",
       "    <tr>\n",
       "      <td>0</td>\n",
       "      <td>071c2e15-5fd0-4e7d-b78d-26b7c34491e1</td>\n",
       "      <td>[b'&lt;!DOCTYPE html&gt;\\r\\n&lt;html id=\"ctl00_htmlMast...</td>\n",
       "      <td>[We use cookies to tailor our service and ensu...</td>\n",
       "      <td>[technologies, descriptive, mapping, learning,...</td>\n",
       "      <td>IT support, IT managed services, IT integratio...</td>\n",
       "      <td>manufacture, production, processing, distribut...</td>\n",
       "      <td></td>\n",
       "      <td></td>\n",
       "    </tr>\n",
       "    <tr>\n",
       "      <td>1</td>\n",
       "      <td>e534df73-b385-4a12-8368-38992d3af7d3</td>\n",
       "      <td>[b'\\n&lt;!DOCTYPE html&gt;\\n\\n&lt;html lang=\"en-US\"&gt;\\n\\...</td>\n",
       "      <td>[About us\\nAbout Powernet\\nPartnerships\\nCusto...</td>\n",
       "      <td>[outsourcing, projects, IT, sensors, convergen...</td>\n",
       "      <td>software development, database development, sy...</td>\n",
       "      <td>wholesale, distribution, retail selling, manuf...</td>\n",
       "      <td></td>\n",
       "      <td></td>\n",
       "    </tr>\n",
       "    <tr>\n",
       "      <td>2</td>\n",
       "      <td>4e38c9ff-bffe-4251-b2b2-94777c7344fe</td>\n",
       "      <td>[b'&lt;!--\\n.----------------.  .----------------...</td>\n",
       "      <td>[Work\\nApproach\\nPeople\\nValues\\nBlog\\nCareers...</td>\n",
       "      <td>[Inventing, products, risk, development, servi...</td>\n",
       "      <td>general accounting, auditing, book keeping act...</td>\n",
       "      <td>manufacture, production, processing, distribut...</td>\n",
       "      <td></td>\n",
       "      <td></td>\n",
       "    </tr>\n",
       "    <tr>\n",
       "      <td>3</td>\n",
       "      <td>a7f8870c-30f8-4851-8f8b-4c16942b397f</td>\n",
       "      <td>[b'&lt;!DOCTYPE html&gt;\\n&lt;!--[if lt IE 7]&gt;&lt;html cla...</td>\n",
       "      <td>[Menu\\nMenu\\nSupport\\nInfrastructure\\nColocati...</td>\n",
       "      <td>[low, chain, portfolio, services, Procurement,...</td>\n",
       "      <td>Investment research and information services, ...</td>\n",
       "      <td>Construction, production and supply, Advertisi...</td>\n",
       "      <td></td>\n",
       "      <td></td>\n",
       "    </tr>\n",
       "    <tr>\n",
       "      <td>4</td>\n",
       "      <td>c062f411-ae3e-486a-9cba-2267889adb2b</td>\n",
       "      <td>[b'&lt;!DOCTYPE html&gt;&lt;html lang=\"en-US\"&gt;&lt;head&gt;&lt;me...</td>\n",
       "      <td>[Français (French)\\nEnglish (English)\\n日本語 (Ja...</td>\n",
       "      <td>[recruitment, producing, Evaluation, Payroll, ...</td>\n",
       "      <td>general accounting, auditing, book keeping act...</td>\n",
       "      <td>manufacture, production, processing, distribut...</td>\n",
       "      <td></td>\n",
       "      <td></td>\n",
       "    </tr>\n",
       "    <tr>\n",
       "      <td>...</td>\n",
       "      <td>...</td>\n",
       "      <td>...</td>\n",
       "      <td>...</td>\n",
       "      <td>...</td>\n",
       "      <td>...</td>\n",
       "      <td>...</td>\n",
       "      <td>...</td>\n",
       "      <td>...</td>\n",
       "    </tr>\n",
       "    <tr>\n",
       "      <td>4371</td>\n",
       "      <td>f91cfa0f-5157-4164-ab81-74600fce132d</td>\n",
       "      <td>[b'&lt;!DOCTYPE html&gt;\\n&lt;html&gt;\\n\\t&lt;head&gt;\\n\\t\\t&lt;met...</td>\n",
       "      <td>[About us\\nOur Brands\\nAbout Tarsago\\nOur Bran...</td>\n",
       "      <td>[ad, tools, text, harsh, services, multimedia,...</td>\n",
       "      <td>accounting, auditing, taxation, book keeping a...</td>\n",
       "      <td>manufacture, production, processing, distribut...</td>\n",
       "      <td></td>\n",
       "      <td></td>\n",
       "    </tr>\n",
       "    <tr>\n",
       "      <td>4372</td>\n",
       "      <td>9e7059e5-7fc5-42d9-ba12-9812aa0f8668</td>\n",
       "      <td>[b'&lt;!DOCTYPE html&gt;\\n&lt;!--[if lt IE 7]&gt; &lt;html cl...</td>\n",
       "      <td>[Tableware back\\nAlumina Vitrified\\nAlumina Vi...</td>\n",
       "      <td>[coffee, Tiered, produces, buses, Trays, Deliv...</td>\n",
       "      <td>wholesale, distribution, trade, sale, import, ...</td>\n",
       "      <td>manufacture, production, construction, develop...</td>\n",
       "      <td>product, ceramic products, bearings, carbon, s...</td>\n",
       "      <td>product, fertilizers (standalone basis), pesti...</td>\n",
       "    </tr>\n",
       "    <tr>\n",
       "      <td>4373</td>\n",
       "      <td>3a6f84ca-f796-4b5d-8125-d4e285b65004</td>\n",
       "      <td>[b'&lt;!doctype html&gt;\\n&lt;html xmlns:og=\"http://ope...</td>\n",
       "      <td>[Component Solutions\\nDefence Products\\nSupply...</td>\n",
       "      <td>[global, counterfeit, components, assemblies, ...</td>\n",
       "      <td>distribution, sale, supply, import, export, tr...</td>\n",
       "      <td>manufacture, production, retail sale, research...</td>\n",
       "      <td>product, electrical products, electrical equip...</td>\n",
       "      <td>product, electricity, household appliances, fo...</td>\n",
       "    </tr>\n",
       "    <tr>\n",
       "      <td>4374</td>\n",
       "      <td>bbff5d3d-634e-4db9-b134-3f86355089ce</td>\n",
       "      <td>[b'&lt;!doctype html&gt;\\n&lt;html class=\"no-js\" lang=\"...</td>\n",
       "      <td>[Much more than chartered accountants\\nfr\\nen\\...</td>\n",
       "      <td>[transaction, services, negotiating, assist, c...</td>\n",
       "      <td>management and business consultancy, general a...</td>\n",
       "      <td>manufacture, production, processing, distribut...</td>\n",
       "      <td></td>\n",
       "      <td></td>\n",
       "    </tr>\n",
       "    <tr>\n",
       "      <td>4375</td>\n",
       "      <td>e6b6d938-5455-43ed-a914-1c9287b67d02</td>\n",
       "      <td>[b'&lt;!DOCTYPE html&gt;\\n&lt;html lang=\"en\" dir=\"ltr\"&gt;...</td>\n",
       "      <td>[Skip to main content\\nfacilitates sustainable...</td>\n",
       "      <td>[cards, interactive, innovative, kiosk, inform...</td>\n",
       "      <td>sale, distribution, wholesale, marketing, supp...</td>\n",
       "      <td>manufacture, production, processing, retail, r...</td>\n",
       "      <td>product, chemicals, abrasive cleaners, tinting...</td>\n",
       "      <td>product, fertilizers, office and stationery pr...</td>\n",
       "    </tr>\n",
       "  </tbody>\n",
       "</table>\n",
       "<p>4376 rows × 8 columns</p>\n",
       "</div>"
      ],
      "text/plain": [
       "                                        id  \\\n",
       "0     071c2e15-5fd0-4e7d-b78d-26b7c34491e1   \n",
       "1     e534df73-b385-4a12-8368-38992d3af7d3   \n",
       "2     4e38c9ff-bffe-4251-b2b2-94777c7344fe   \n",
       "3     a7f8870c-30f8-4851-8f8b-4c16942b397f   \n",
       "4     c062f411-ae3e-486a-9cba-2267889adb2b   \n",
       "...                                    ...   \n",
       "4371  f91cfa0f-5157-4164-ab81-74600fce132d   \n",
       "4372  9e7059e5-7fc5-42d9-ba12-9812aa0f8668   \n",
       "4373  3a6f84ca-f796-4b5d-8125-d4e285b65004   \n",
       "4374  bbff5d3d-634e-4db9-b134-3f86355089ce   \n",
       "4375  e6b6d938-5455-43ed-a914-1c9287b67d02   \n",
       "\n",
       "                                                   html  \\\n",
       "0     [b'<!DOCTYPE html>\\r\\n<html id=\"ctl00_htmlMast...   \n",
       "1     [b'\\n<!DOCTYPE html>\\n\\n<html lang=\"en-US\">\\n\\...   \n",
       "2     [b'<!--\\n.----------------.  .----------------...   \n",
       "3     [b'<!DOCTYPE html>\\n<!--[if lt IE 7]><html cla...   \n",
       "4     [b'<!DOCTYPE html><html lang=\"en-US\"><head><me...   \n",
       "...                                                 ...   \n",
       "4371  [b'<!DOCTYPE html>\\n<html>\\n\\t<head>\\n\\t\\t<met...   \n",
       "4372  [b'<!DOCTYPE html>\\n<!--[if lt IE 7]> <html cl...   \n",
       "4373  [b'<!doctype html>\\n<html xmlns:og=\"http://ope...   \n",
       "4374  [b'<!doctype html>\\n<html class=\"no-js\" lang=\"...   \n",
       "4375  [b'<!DOCTYPE html>\\n<html lang=\"en\" dir=\"ltr\">...   \n",
       "\n",
       "                                                   text  \\\n",
       "0     [We use cookies to tailor our service and ensu...   \n",
       "1     [About us\\nAbout Powernet\\nPartnerships\\nCusto...   \n",
       "2     [Work\\nApproach\\nPeople\\nValues\\nBlog\\nCareers...   \n",
       "3     [Menu\\nMenu\\nSupport\\nInfrastructure\\nColocati...   \n",
       "4     [Français (French)\\nEnglish (English)\\n日本語 (Ja...   \n",
       "...                                                 ...   \n",
       "4371  [About us\\nOur Brands\\nAbout Tarsago\\nOur Bran...   \n",
       "4372  [Tableware back\\nAlumina Vitrified\\nAlumina Vi...   \n",
       "4373  [Component Solutions\\nDefence Products\\nSupply...   \n",
       "4374  [Much more than chartered accountants\\nfr\\nen\\...   \n",
       "4375  [Skip to main content\\nfacilitates sustainable...   \n",
       "\n",
       "                                               keywords  \\\n",
       "0     [technologies, descriptive, mapping, learning,...   \n",
       "1     [outsourcing, projects, IT, sensors, convergen...   \n",
       "2     [Inventing, products, risk, development, servi...   \n",
       "3     [low, chain, portfolio, services, Procurement,...   \n",
       "4     [recruitment, producing, Evaluation, Payroll, ...   \n",
       "...                                                 ...   \n",
       "4371  [ad, tools, text, harsh, services, multimedia,...   \n",
       "4372  [coffee, Tiered, produces, buses, Trays, Deliv...   \n",
       "4373  [global, counterfeit, components, assemblies, ...   \n",
       "4374  [transaction, services, negotiating, assist, c...   \n",
       "4375  [cards, interactive, innovative, kiosk, inform...   \n",
       "\n",
       "                                      accepted_function  \\\n",
       "0     IT support, IT managed services, IT integratio...   \n",
       "1     software development, database development, sy...   \n",
       "2     general accounting, auditing, book keeping act...   \n",
       "3     Investment research and information services, ...   \n",
       "4     general accounting, auditing, book keeping act...   \n",
       "...                                                 ...   \n",
       "4371  accounting, auditing, taxation, book keeping a...   \n",
       "4372  wholesale, distribution, trade, sale, import, ...   \n",
       "4373  distribution, sale, supply, import, export, tr...   \n",
       "4374  management and business consultancy, general a...   \n",
       "4375  sale, distribution, wholesale, marketing, supp...   \n",
       "\n",
       "                                      rejected_function  \\\n",
       "0     manufacture, production, processing, distribut...   \n",
       "1     wholesale, distribution, retail selling, manuf...   \n",
       "2     manufacture, production, processing, distribut...   \n",
       "3     Construction, production and supply, Advertisi...   \n",
       "4     manufacture, production, processing, distribut...   \n",
       "...                                                 ...   \n",
       "4371  manufacture, production, processing, distribut...   \n",
       "4372  manufacture, production, construction, develop...   \n",
       "4373  manufacture, production, retail sale, research...   \n",
       "4374  manufacture, production, processing, distribut...   \n",
       "4375  manufacture, production, processing, retail, r...   \n",
       "\n",
       "                                       accepted_product  \\\n",
       "0                                                         \n",
       "1                                                         \n",
       "2                                                         \n",
       "3                                                         \n",
       "4                                                         \n",
       "...                                                 ...   \n",
       "4371                                                      \n",
       "4372  product, ceramic products, bearings, carbon, s...   \n",
       "4373  product, electrical products, electrical equip...   \n",
       "4374                                                      \n",
       "4375  product, chemicals, abrasive cleaners, tinting...   \n",
       "\n",
       "                                       rejected_product  \n",
       "0                                                        \n",
       "1                                                        \n",
       "2                                                        \n",
       "3                                                        \n",
       "4                                                        \n",
       "...                                                 ...  \n",
       "4371                                                     \n",
       "4372  product, fertilizers (standalone basis), pesti...  \n",
       "4373  product, electricity, household appliances, fo...  \n",
       "4374                                                     \n",
       "4375  product, fertilizers, office and stationery pr...  \n",
       "\n",
       "[4376 rows x 8 columns]"
      ]
     },
     "execution_count": 80,
     "metadata": {},
     "output_type": "execute_result"
    }
   ],
   "source": [
    "test"
   ]
  },
  {
   "cell_type": "code",
   "execution_count": 81,
   "metadata": {},
   "outputs": [
    {
     "data": {
      "text/plain": [
       "array([1, 1, 1, ..., 1, 1, 1])"
      ]
     },
     "execution_count": 81,
     "metadata": {},
     "output_type": "execute_result"
    }
   ],
   "source": [
    "predicted"
   ]
  },
  {
   "cell_type": "code",
   "execution_count": 82,
   "metadata": {},
   "outputs": [
    {
     "data": {
      "text/plain": [
       "15515"
      ]
     },
     "execution_count": 82,
     "metadata": {},
     "output_type": "execute_result"
    }
   ],
   "source": [
    "len(train)"
   ]
  },
  {
   "cell_type": "code",
   "execution_count": null,
   "metadata": {},
   "outputs": [],
   "source": []
  }
 ],
 "metadata": {
  "kernelspec": {
   "display_name": "Python 3",
   "language": "python",
   "name": "python3"
  },
  "language_info": {
   "codemirror_mode": {
    "name": "ipython",
    "version": 3
   },
   "file_extension": ".py",
   "mimetype": "text/x-python",
   "name": "python",
   "nbconvert_exporter": "python",
   "pygments_lexer": "ipython3",
   "version": "3.7.4"
  }
 },
 "nbformat": 4,
 "nbformat_minor": 4
}
